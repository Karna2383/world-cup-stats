{
 "cells": [
  {
   "cell_type": "code",
   "execution_count": 19,
   "id": "9a1598a1-973d-4b06-8b1c-069133ba2dcb",
   "metadata": {},
   "outputs": [],
   "source": [
    "# Step 1 Imports\n",
    "\n",
    "import json\n",
    "import pandas as pd\n",
    "import numpy as np\n",
    "import matplotlib.pyplot as plt\n",
    "import seaborn as sns\n",
    "\n",
    "sns.set(style=\"whitegrid\") "
   ]
  },
  {
   "cell_type": "code",
   "execution_count": 21,
   "id": "a045a18b-e832-4630-8fda-66b6f6468df1",
   "metadata": {},
   "outputs": [
    {
     "name": "stdout",
     "output_type": "stream",
     "text": [
      "FIFA World Cup Winners:\n",
      "\n",
      "1930:Uruguay\n",
      "1934:Italy\n",
      "1938:Italy\n",
      "1942:World War 2\n",
      "1946:World War 2\n",
      "1950:Uruguay\n",
      "1954:West Germany\n",
      "1958:Brazil\n",
      "1962:Brazil\n",
      "1966:England\n",
      "1970:Brazil\n",
      "1974:West Germany\n",
      "1978:Argentina\n",
      "1982:Italy\n",
      "1986:Argentina\n",
      "1990:West Germany\n",
      "1994:Brazil\n",
      "1998:France\n",
      "2002:Brazil\n",
      "2006:Italy\n",
      "2010:Spain\n",
      "2014:Germany\n",
      "2018:France\n",
      "2022:Argentina\n"
     ]
    }
   ],
   "source": [
    "#Step 2 World Cup Winners\n",
    "\n",
    "world_cup_winners = { \n",
    "   \n",
    "    1930: 'Uruguay',\n",
    "    1934: 'Italy', \n",
    "    1938: 'Italy',\n",
    "    1942: 'World War 2',\n",
    "    1946: 'World War 2',\n",
    "    1950: 'Uruguay',\n",
    "    1954: 'West Germany',\n",
    "    1958: 'Brazil',\n",
    "    1962: 'Brazil',\n",
    "    1966: 'England',\n",
    "    1970: 'Brazil',\n",
    "    1974: 'West Germany',\n",
    "    1978: 'Argentina',\n",
    "    1982: 'Italy',\n",
    "    1986: 'Argentina',\n",
    "    1990: 'West Germany',\n",
    "    1994: 'Brazil',\n",
    "    1998: 'France',\n",
    "    2002: 'Brazil',\n",
    "    2006: 'Italy',\n",
    "    2010: 'Spain',\n",
    "    2014: 'Germany',\n",
    "    2018: 'France',\n",
    "    2022: 'Argentina',\n",
    "    \n",
    "}\n",
    "\n",
    "print (\"FIFA World Cup Winners:\")\n",
    "print()\n",
    "\n",
    "for year, country in world_cup_winners.items():\n",
    "    print(f\"{year}:{country}\")"
   ]
  },
  {
   "cell_type": "code",
   "execution_count": 22,
   "id": "848fe941-94b6-4194-a1fc-602769ffe52c",
   "metadata": {},
   "outputs": [
    {
     "name": "stdout",
     "output_type": "stream",
     "text": [
      "Top World Cup Goal Scorers:\n",
      "\n",
      "Miroslav Klose: 16 Goals\n",
      "Ronaldo Nazario: 16 Goals\n",
      "Gerd Muller: 16 Goals\n",
      "Just Fontaine: 16 Goals\n",
      "Kylian Mbappe: 16 Goals\n",
      "Pele: 12 Goals\n",
      "Jürgen Klinsmann: 11 Goals\n",
      "Sándor Kocsis: 11 Goals\n",
      "Harry Kane: 8 Goals\n",
      "Cristiano Ronaldo: 8 Goals\n"
     ]
    }
   ],
   "source": [
    "#Step 3 World Cup Top Scorers\n",
    "\n",
    "top_scorers=[\n",
    "\n",
    "{\"player\":\"Miroslav Klose\", \"goals\":16},\n",
    "{\"player\":\"Ronaldo Nazario\", \"goals\":16}, \n",
    "{\"player\":\"Gerd Muller\", \"goals\":16},\n",
    "{\"player\":\"Just Fontaine\", \"goals\":16},\n",
    "{\"player\":\"Kylian Mbappe\", \"goals\":16},\n",
    "{\"player\":\"Pele\", \"goals\":12},\n",
    "{\"player\":\"Jürgen Klinsmann\", \"goals\":11},\n",
    "{\"player\":\"Sándor Kocsis\", \"goals\":11},\n",
    "{\"player\":\"Harry Kane\", \"goals\":8},\n",
    "{\"player\":\"Cristiano Ronaldo\", \"goals\":8} \n",
    "]\n",
    "\n",
    "def print_top_scorers (scorers):\n",
    "    print(\"Top World Cup Goal Scorers:\")\n",
    "    print()\n",
    "    sorted_scorers = sorted (scorers, key=lambda x: x['goals'], reverse = True)\n",
    "    for scorer in sorted_scorers:\n",
    "        print(f\"{scorer['player']}: {scorer['goals']} Goals\")\n",
    "        \n",
    "print_top_scorers(top_scorers)\n"
   ]
  },
  {
   "cell_type": "code",
   "execution_count": 25,
   "id": "b1059833-18a1-4d06-958f-bc201e957da3",
   "metadata": {},
   "outputs": [
    {
     "name": "stdout",
     "output_type": "stream",
     "text": [
      "Data saved to top_scorers.json\n",
      "Data loaded from file:\n",
      "{'player': 'Miroslav Klose', 'goals': 16}\n"
     ]
    }
   ],
   "source": [
    "#Step 4 Saving & laoding JSON files\n",
    "\n",
    "import json\n",
    "\n",
    "#save the top_scorers list to a JSON file\n",
    "\n",
    "with open(\"top_scorers.json\", \"w\") as file:\n",
    "    json.dump(top_scorers, file, indent=4)\n",
    "    print(\"Data saved to top_scorers.json\")\n",
    "\n",
    "# load it back safely\n",
    "try:\n",
    "    with open(\"top_scorers.json\", \"r\") as file:\n",
    "        loaded_scorers = json.load(file)\n",
    "        print(\"Data loaded from file:\")\n",
    "        print(loaded_scorers[0]) # Just show the first scorer as a test\n",
    "\n",
    "except FileNotFoundError:\n",
    "    print(\"File not found. Make sure it exists.\")\n",
    "\n",
    "except json.JSONDecodeError:\n",
    "    print(\"Couldn't decode the file - maybe it's not JSON file\")\n"
   ]
  },
  {
   "cell_type": "code",
   "execution_count": 27,
   "id": "6a5e39d5-3cb7-4f2f-97bc-ace340bd6c5a",
   "metadata": {},
   "outputs": [
    {
     "name": "stdout",
     "output_type": "stream",
     "text": [
      "Data saved to world_cup_winners.json\n"
     ]
    }
   ],
   "source": [
    "#Step 4.1 Saving & laoding JSON files\n",
    "\n",
    "import json\n",
    "#save the World Cup Winners list to a JSON file\n",
    "\n",
    "with open(\"world_cup_winners.json\",\"w\") as file:\n",
    "    json.dump(world_cup_winners, file,indent=4)\n",
    "    print(\"Data saved to world_cup_winners.json\")\n",
    "\n",
    "\n",
    "    "
   ]
  },
  {
   "cell_type": "code",
   "execution_count": 29,
   "id": "54c98a96-f2ab-45fb-a3de-8cf70cfc486e",
   "metadata": {},
   "outputs": [
    {
     "name": "stdout",
     "output_type": "stream",
     "text": [
      "Data loaded from file:\n",
      "1930: Uruguay\n"
     ]
    }
   ],
   "source": [
    "# load it back safely\n",
    "try:\n",
    "    with open(\"world_cup_winners.json\", \"r\") as file:\n",
    "        loaded_winners = json.load(file)\n",
    "        print(\"Data loaded from file:\")\n",
    "        for year, winner in loaded_winners.items():\n",
    "            print(f\"{year}: {winner}\")\n",
    "            break  # stop after printing just the first entry\n",
    "\n",
    "except FileNotFoundError:\n",
    "    print(\"File not found. Make sure it exists.\")\n",
    "\n",
    "except json.JSONDecodeError:\n",
    "    print(\"Couldn't decode the file - maybe it's not JSON file\")"
   ]
  },
  {
   "cell_type": "code",
   "execution_count": 31,
   "id": "6e0bd2f5-186d-4196-be23-97e09ed54fff",
   "metadata": {},
   "outputs": [
    {
     "name": "stdout",
     "output_type": "stream",
     "text": [
      "Pele has scored 12 World Cup goals\n"
     ]
    }
   ],
   "source": [
    "# Step 5: OOP – Create a Player Class\n",
    "\n",
    "class Player:\n",
    "    def __init__(self, name, goals):\n",
    "    \n",
    "        self.name = name #players name\n",
    "        self.goals = goals #Total World cup goals\n",
    "\n",
    "    def describe (self):\n",
    "        print(f\"{self.name} has scored {self.goals} World Cup goals\")\n",
    "\n",
    "\n",
    "#  Create a player object\n",
    "pele= Player(\"Pele\", 12)\n",
    "\n",
    "\n",
    "# ✅ Call the describe() method\n",
    "pele.describe()\n"
   ]
  },
  {
   "cell_type": "code",
   "execution_count": 33,
   "id": "b5e14a1f-9be0-4cc3-8e26-f1bb13d85789",
   "metadata": {},
   "outputs": [
    {
     "name": "stdout",
     "output_type": "stream",
     "text": [
      " The World cup was played in 1966 and won by England. \n"
     ]
    }
   ],
   "source": [
    "# Step 5: OOP – Create a Player Class\n",
    "\n",
    "class Winner:\n",
    "    def __init__(self, year, country):\n",
    "    \n",
    "        self.year = year #year played\n",
    "        self.country = country #winning country\n",
    "\n",
    "    def describe (self):\n",
    "        print(f\" The World cup was played in {self.year} and won by {self.country}. \")\n",
    "\n",
    "\n",
    "#  Create a Nation object\n",
    "nation= Winner(1966, 'England')\n",
    "\n",
    "\n",
    "# ✅ Call the describe() method\n",
    "nation.describe()\n"
   ]
  },
  {
   "cell_type": "code",
   "execution_count": 35,
   "id": "ce89787b-b732-47a9-952b-1607edeb8a9b",
   "metadata": {},
   "outputs": [
    {
     "name": "stdout",
     "output_type": "stream",
     "text": [
      " The World cup was played in 1930 and won by Uruguay. \n",
      " The World cup was played in 1934 and won by Italy. \n",
      " The World cup was played in 1938 and won by Italy. \n"
     ]
    }
   ],
   "source": [
    "# Turn each winner in the dictionary into a Winner object\n",
    "winner_objects = []\n",
    "\n",
    "for year, country in world_cup_winners.items():\n",
    "    winner = Winner(year, country)\n",
    "    winner_objects.append(winner)\n",
    "\n",
    "# Describe the first 3 winners\n",
    "for w in winner_objects[0:3]:\n",
    "    w.describe()\n"
   ]
  },
  {
   "cell_type": "code",
   "execution_count": 37,
   "id": "5e4627ce-b2ca-4d1d-8e21-214eb150f7b6",
   "metadata": {},
   "outputs": [
    {
     "name": "stdout",
     "output_type": "stream",
     "text": [
      " The World cup was played in 1930 and won by Uruguay. \n",
      " The World cup was played in 1934 and won by Italy. \n",
      " The World cup was played in 1938 and won by Italy. \n"
     ]
    }
   ],
   "source": [
    "# Turn each winner in the dictionary into a Winner object\n",
    "\n",
    "winner_objects = []\n",
    "\n",
    "for year, country in world_cup_winners.items():\n",
    "    winners = Winner(year, country)\n",
    "    winner_objects.append(winners)\n",
    "\n",
    "# describe the first 3 winners\n",
    "\n",
    "for w in  winner_objects [0:3]:\n",
    "    w.describe()\n",
    "\n"
   ]
  },
  {
   "cell_type": "code",
   "execution_count": 39,
   "id": "2de0325e-dd39-4988-b869-4e07fbb8ce31",
   "metadata": {},
   "outputs": [],
   "source": [
    "\n",
    "class Winner:\n",
    "    def __init__(self, year, country):\n",
    "        self.year = year\n",
    "        self.country = country\n",
    "\n",
    "    def describe(self):\n",
    "        print(f\"The World Cup was played in {self.year} and won by {self.country}.\")\n",
    "\n",
    "    def is_brazil(self):\n",
    "        return self.country.lower() == \"brazil\"\n",
    "class Winner:\n",
    "    def __init__(self, year, country):\n",
    "        self.year = year\n",
    "        self.country = country\n",
    "\n",
    "    def describe(self):\n",
    "        print(f\"The World Cup was played in {self.year} and won by {self.country}.\")\n",
    "\n",
    "    def is_brazil(self):\n",
    "        return self.country.lower() == \"brazil\"\n"
   ]
  },
  {
   "cell_type": "code",
   "execution_count": 41,
   "id": "20a8f954-262a-40a7-9f1f-60e5d280f90f",
   "metadata": {},
   "outputs": [
    {
     "name": "stdout",
     "output_type": "stream",
     "text": [
      "The World Cup was played in 1930 and won by Uruguay.\n",
      "The World Cup was played in 1934 and won by Italy.\n",
      "The World Cup was played in 1938 and won by Italy.\n",
      "The World Cup was played in 1942 and won by World War 2.\n",
      "The World Cup was played in 1946 and won by World War 2.\n",
      "The World Cup was played in 1950 and won by Uruguay.\n",
      "The World Cup was played in 1954 and won by West Germany.\n",
      "The World Cup was played in 1958 and won by Brazil.\n",
      "🇧🇷 Brazil won this year!\n",
      "The World Cup was played in 1962 and won by Brazil.\n",
      "🇧🇷 Brazil won this year!\n",
      "The World Cup was played in 1966 and won by England.\n"
     ]
    }
   ],
   "source": [
    "# Turn each winner in the dictionary into a Winner object\n",
    "winner_objects = []\n",
    "\n",
    "for year, country in world_cup_winners.items():\n",
    "    winner = Winner(year, country)\n",
    "    winner_objects.append(winner)\n",
    "\n",
    "# Describe the first 3 winners and check if Brazil won\n",
    "for w in winner_objects[:10]:\n",
    "    w.describe()\n",
    "    if w.is_brazil():\n",
    "        print(\"🇧🇷 Brazil won this year!\")\n"
   ]
  },
  {
   "cell_type": "code",
   "execution_count": 43,
   "id": "f23ddd60-56a0-4fda-8836-1b930ed08380",
   "metadata": {},
   "outputs": [
    {
     "name": "stdout",
     "output_type": "stream",
     "text": [
      "The World Cup was played in 1958 and won by Brazil.\n",
      "\n",
      "The World Cup was played in 1962 and won by Brazil.\n",
      "\n",
      "The World Cup was played in 1970 and won by Brazil.\n",
      "\n",
      "The World Cup was played in 1994 and won by Brazil.\n",
      "\n",
      "The World Cup was played in 2002 and won by Brazil.\n",
      "\n"
     ]
    }
   ],
   "source": [
    "# Describe only Brazil's World Cup wins\n",
    "for w in winner_objects:\n",
    "    if w.is_brazil():\n",
    "        w.describe()\n",
    "        print()\n",
    "      \n"
   ]
  },
  {
   "cell_type": "code",
   "execution_count": 45,
   "id": "e88c29f9-b1fb-49aa-abc1-cd6c9c1fc27a",
   "metadata": {},
   "outputs": [
    {
     "name": "stdout",
     "output_type": "stream",
     "text": [
      "The World Cup was played in 2022 and won by Argentina.\n",
      "\n",
      "The World Cup was played in 2022 and won by Argentina.\n",
      "\n",
      "The World Cup was played in 2022 and won by Argentina.\n",
      "\n",
      "The World Cup was played in 2022 and won by Argentina.\n",
      "\n",
      "The World Cup was played in 2022 and won by Argentina.\n",
      "\n",
      "Brazil has won the World Cup 5 times.\n"
     ]
    }
   ],
   "source": [
    "# Describe only Brazil's World Cup wins + count total wins\n",
    "\n",
    "brazil_win_count = 0\n",
    "for wins in winner_objects:\n",
    "     if wins.is_brazil():\n",
    "         w.describe()\n",
    "         print()\n",
    "         brazil_win_count +=1 #increase counter\n",
    "\n",
    "#summary\n",
    "\n",
    "print(f\"Brazil has won the World Cup {brazil_win_count} times.\")"
   ]
  },
  {
   "cell_type": "code",
   "execution_count": 47,
   "id": "6c442ce6-3502-47a7-9c33-b108f772f9ec",
   "metadata": {},
   "outputs": [
    {
     "name": "stdout",
     "output_type": "stream",
     "text": [
      "The World Cup was played in 1958 and won by Brazil.\n",
      "\n",
      "The World Cup was played in 1962 and won by Brazil.\n",
      "\n",
      "The World Cup was played in 1970 and won by Brazil.\n",
      "\n",
      "The World Cup was played in 1994 and won by Brazil.\n",
      "\n",
      "The World Cup was played in 2002 and won by Brazil.\n",
      "\n",
      "Brazil has won the World Cup 5 times.\n"
     ]
    }
   ],
   "source": [
    "brazil_win_count = 0\n",
    "for w in winner_objects:\n",
    "        if w.is_brazil():\n",
    "            w.describe()\n",
    "            print()\n",
    "            brazil_win_count +=1 #increase counte\n",
    "\n",
    "#summary\n",
    "\n",
    "print(f\"Brazil has won the World Cup {brazil_win_count} times.\")"
   ]
  },
  {
   "cell_type": "code",
   "execution_count": null,
   "id": "69ed8258-234c-411a-b28f-1121ac9519cc",
   "metadata": {},
   "outputs": [],
   "source": []
  },
  {
   "cell_type": "code",
   "execution_count": 57,
   "id": "491a61b9-4e53-4341-adfa-a117171d8dac",
   "metadata": {},
   "outputs": [],
   "source": [
    "class Winner:\n",
    "    def __init__(self, year, country):\n",
    "        self.year = year\n",
    "        self.country = country\n",
    "\n",
    "    def describe(self):\n",
    "        print(f\"The World Cup was played in {self.year} and won by {self.country}.\")\n",
    "\n",
    "    def is_brazil(self):\n",
    "        return self.country.lower() == \"brazil\"\n",
    "\n",
    "    def is_in_21st_century(self):\n",
    "        return self.year >= 2000\n"
   ]
  },
  {
   "cell_type": "code",
   "execution_count": 59,
   "id": "d010a2db-7945-42de-be82-6e3d4dce71b8",
   "metadata": {},
   "outputs": [],
   "source": [
    "winner_objects = []\n",
    "\n",
    "for year, country in world_cup_winners.items():\n",
    "    winner = Winner(year, country)\n",
    "    winner_objects.append(winner)\n"
   ]
  },
  {
   "cell_type": "code",
   "execution_count": 61,
   "id": "d25e0d7b-b2b8-413d-aa65-7d87f31169bb",
   "metadata": {},
   "outputs": [
    {
     "name": "stdout",
     "output_type": "stream",
     "text": [
      "2002: Modern era World Cup!\n",
      "2006: Modern era World Cup!\n",
      "2010: Modern era World Cup!\n",
      "2014: Modern era World Cup!\n",
      "2018: Modern era World Cup!\n",
      "2022: Modern era World Cup!\n"
     ]
    }
   ],
   "source": [
    "for winner in winner_objects:\n",
    "    if winner.is_in_21st_century():\n",
    "        print(f\"{winner.year}: Modern era World Cup!\")\n"
   ]
  },
  {
   "cell_type": "code",
   "execution_count": null,
   "id": "8e787db7-800c-47f5-b05c-7ebb3f5a9e31",
   "metadata": {},
   "outputs": [],
   "source": []
  },
  {
   "cell_type": "code",
   "execution_count": 103,
   "id": "197c86d7-9bbf-411e-9e11-21116aa56d84",
   "metadata": {},
   "outputs": [
    {
     "data": {
      "text/html": [
       "<div>\n",
       "<style scoped>\n",
       "    .dataframe tbody tr th:only-of-type {\n",
       "        vertical-align: middle;\n",
       "    }\n",
       "\n",
       "    .dataframe tbody tr th {\n",
       "        vertical-align: top;\n",
       "    }\n",
       "\n",
       "    .dataframe thead th {\n",
       "        text-align: right;\n",
       "    }\n",
       "</style>\n",
       "<table border=\"1\" class=\"dataframe\">\n",
       "  <thead>\n",
       "    <tr style=\"text-align: right;\">\n",
       "      <th></th>\n",
       "      <th>player</th>\n",
       "      <th>goals</th>\n",
       "    </tr>\n",
       "  </thead>\n",
       "  <tbody>\n",
       "    <tr>\n",
       "      <th>0</th>\n",
       "      <td>Miroslav Klose</td>\n",
       "      <td>16</td>\n",
       "    </tr>\n",
       "    <tr>\n",
       "      <th>1</th>\n",
       "      <td>Ronaldo Nazario</td>\n",
       "      <td>16</td>\n",
       "    </tr>\n",
       "    <tr>\n",
       "      <th>2</th>\n",
       "      <td>Gerd Muller</td>\n",
       "      <td>14</td>\n",
       "    </tr>\n",
       "    <tr>\n",
       "      <th>3</th>\n",
       "      <td>Just Fontaine</td>\n",
       "      <td>13</td>\n",
       "    </tr>\n",
       "    <tr>\n",
       "      <th>4</th>\n",
       "      <td>Kylian Mbappe</td>\n",
       "      <td>12</td>\n",
       "    </tr>\n",
       "    <tr>\n",
       "      <th>5</th>\n",
       "      <td>Pele</td>\n",
       "      <td>12</td>\n",
       "    </tr>\n",
       "    <tr>\n",
       "      <th>6</th>\n",
       "      <td>Jürgen Klinsmann</td>\n",
       "      <td>11</td>\n",
       "    </tr>\n",
       "    <tr>\n",
       "      <th>7</th>\n",
       "      <td>Sándor Kocsis</td>\n",
       "      <td>11</td>\n",
       "    </tr>\n",
       "    <tr>\n",
       "      <th>8</th>\n",
       "      <td>Harry Kane</td>\n",
       "      <td>8</td>\n",
       "    </tr>\n",
       "    <tr>\n",
       "      <th>9</th>\n",
       "      <td>Cristiano Ronaldo</td>\n",
       "      <td>8</td>\n",
       "    </tr>\n",
       "  </tbody>\n",
       "</table>\n",
       "</div>"
      ],
      "text/plain": [
       "              player  goals\n",
       "0     Miroslav Klose     16\n",
       "1    Ronaldo Nazario     16\n",
       "2        Gerd Muller     14\n",
       "3      Just Fontaine     13\n",
       "4      Kylian Mbappe     12\n",
       "5               Pele     12\n",
       "6   Jürgen Klinsmann     11\n",
       "7      Sándor Kocsis     11\n",
       "8         Harry Kane      8\n",
       "9  Cristiano Ronaldo      8"
      ]
     },
     "execution_count": 103,
     "metadata": {},
     "output_type": "execute_result"
    }
   ],
   "source": [
    "top_scorers = [\n",
    "    {\"player\": \"Miroslav Klose\", \"goals\": 16},\n",
    "    {\"player\": \"Ronaldo Nazario\", \"goals\": 16},\n",
    "    {\"player\": \"Gerd Muller\", \"goals\": 14},\n",
    "    {\"player\": \"Just Fontaine\", \"goals\": 13},\n",
    "    {\"player\": \"Kylian Mbappe\", \"goals\": 12},\n",
    "    {\"player\": \"Pele\", \"goals\": 12},\n",
    "    {\"player\": \"Jürgen Klinsmann\", \"goals\": 11},\n",
    "    {\"player\": \"Sándor Kocsis\", \"goals\": 11},\n",
    "    {\"player\": \"Harry Kane\", \"goals\": 8},\n",
    "    {\"player\": \"Cristiano Ronaldo\", \"goals\": 8}\n",
    "]\n",
    "import pandas as pd\n",
    "import numpy as np\n",
    "\n",
    "df =pd.DataFrame(top_scorers)\n",
    "\n",
    "df"
   ]
  },
  {
   "cell_type": "code",
   "execution_count": 75,
   "id": "cea45b69-4be8-4812-a56e-39b3af6890bc",
   "metadata": {},
   "outputs": [
    {
     "name": "stdout",
     "output_type": "stream",
     "text": [
      "Total world cup goals scorerd by the top 10 goal scorers is 121\n"
     ]
    }
   ],
   "source": [
    "total_goals = df['goals'].sum()\n",
    "\n",
    "print(f\"Total world cup goals scorerd by the top 10 goal scorers is {total_goals}\" )"
   ]
  },
  {
   "cell_type": "code",
   "execution_count": 87,
   "id": "e9d316c8-ccc7-4c5b-a5ca-fae419494e10",
   "metadata": {},
   "outputs": [
    {
     "name": "stdout",
     "output_type": "stream",
     "text": [
      "Average goals scored: 12.10\n",
      "Average goals scored: 12.100\n"
     ]
    }
   ],
   "source": [
    "avg_goals = df['goals'].mean()\n",
    "\n",
    "print(f\"Average goals scored: {avg_goals:.2f}\")\n",
    "\n",
    "print (f\"Average goals scored: {avg_goals:.3f}\")"
   ]
  },
  {
   "cell_type": "code",
   "execution_count": 89,
   "id": "920da677-3692-4e70-83e2-03c90d5b8578",
   "metadata": {},
   "outputs": [
    {
     "name": "stdout",
     "output_type": "stream",
     "text": [
      "Top scorer: Miroslav Klose with 16 goals\n"
     ]
    }
   ],
   "source": [
    "top_player=df.loc[df['goals'].idxmax()]\n",
    "\n",
    "print(f\"Top scorer: {top_player['player']} with {top_player['goals']} goals\")"
   ]
  },
  {
   "cell_type": "code",
   "execution_count": 107,
   "id": "0900bcb8-e9a7-4d42-af64-3d7fbea734b5",
   "metadata": {},
   "outputs": [
    {
     "data": {
      "text/html": [
       "<div>\n",
       "<style scoped>\n",
       "    .dataframe tbody tr th:only-of-type {\n",
       "        vertical-align: middle;\n",
       "    }\n",
       "\n",
       "    .dataframe tbody tr th {\n",
       "        vertical-align: top;\n",
       "    }\n",
       "\n",
       "    .dataframe thead th {\n",
       "        text-align: right;\n",
       "    }\n",
       "</style>\n",
       "<table border=\"1\" class=\"dataframe\">\n",
       "  <thead>\n",
       "    <tr style=\"text-align: right;\">\n",
       "      <th></th>\n",
       "      <th>player</th>\n",
       "      <th>goals</th>\n",
       "    </tr>\n",
       "  </thead>\n",
       "  <tbody>\n",
       "    <tr>\n",
       "      <th>0</th>\n",
       "      <td>Miroslav Klose</td>\n",
       "      <td>16</td>\n",
       "    </tr>\n",
       "    <tr>\n",
       "      <th>1</th>\n",
       "      <td>Ronaldo Nazario</td>\n",
       "      <td>16</td>\n",
       "    </tr>\n",
       "  </tbody>\n",
       "</table>\n",
       "</div>"
      ],
      "text/plain": [
       "            player  goals\n",
       "0   Miroslav Klose     16\n",
       "1  Ronaldo Nazario     16"
      ]
     },
     "execution_count": 107,
     "metadata": {},
     "output_type": "execute_result"
    }
   ],
   "source": [
    "top_10_plus = df[df['goals'] > 10]\n",
    "top_10_plus\n",
    "\n",
    "top_10_plus1 = df[df['goals']>15]\n",
    "top_10_plus1"
   ]
  },
  {
   "cell_type": "code",
   "execution_count": 109,
   "id": "d7cd0b8d-5104-4371-b6b1-c855655b4d8e",
   "metadata": {},
   "outputs": [
    {
     "data": {
      "text/html": [
       "<div>\n",
       "<style scoped>\n",
       "    .dataframe tbody tr th:only-of-type {\n",
       "        vertical-align: middle;\n",
       "    }\n",
       "\n",
       "    .dataframe tbody tr th {\n",
       "        vertical-align: top;\n",
       "    }\n",
       "\n",
       "    .dataframe thead th {\n",
       "        text-align: right;\n",
       "    }\n",
       "</style>\n",
       "<table border=\"1\" class=\"dataframe\">\n",
       "  <thead>\n",
       "    <tr style=\"text-align: right;\">\n",
       "      <th></th>\n",
       "      <th>player</th>\n",
       "      <th>goals</th>\n",
       "    </tr>\n",
       "  </thead>\n",
       "  <tbody>\n",
       "    <tr>\n",
       "      <th>0</th>\n",
       "      <td>Miroslav Klose</td>\n",
       "      <td>16</td>\n",
       "    </tr>\n",
       "    <tr>\n",
       "      <th>1</th>\n",
       "      <td>Ronaldo Nazario</td>\n",
       "      <td>16</td>\n",
       "    </tr>\n",
       "    <tr>\n",
       "      <th>2</th>\n",
       "      <td>Gerd Muller</td>\n",
       "      <td>14</td>\n",
       "    </tr>\n",
       "    <tr>\n",
       "      <th>3</th>\n",
       "      <td>Just Fontaine</td>\n",
       "      <td>13</td>\n",
       "    </tr>\n",
       "    <tr>\n",
       "      <th>4</th>\n",
       "      <td>Kylian Mbappe</td>\n",
       "      <td>12</td>\n",
       "    </tr>\n",
       "    <tr>\n",
       "      <th>5</th>\n",
       "      <td>Pele</td>\n",
       "      <td>12</td>\n",
       "    </tr>\n",
       "    <tr>\n",
       "      <th>6</th>\n",
       "      <td>Jürgen Klinsmann</td>\n",
       "      <td>11</td>\n",
       "    </tr>\n",
       "    <tr>\n",
       "      <th>7</th>\n",
       "      <td>Sándor Kocsis</td>\n",
       "      <td>11</td>\n",
       "    </tr>\n",
       "    <tr>\n",
       "      <th>8</th>\n",
       "      <td>Harry Kane</td>\n",
       "      <td>8</td>\n",
       "    </tr>\n",
       "    <tr>\n",
       "      <th>9</th>\n",
       "      <td>Cristiano Ronaldo</td>\n",
       "      <td>8</td>\n",
       "    </tr>\n",
       "  </tbody>\n",
       "</table>\n",
       "</div>"
      ],
      "text/plain": [
       "              player  goals\n",
       "0     Miroslav Klose     16\n",
       "1    Ronaldo Nazario     16\n",
       "2        Gerd Muller     14\n",
       "3      Just Fontaine     13\n",
       "4      Kylian Mbappe     12\n",
       "5               Pele     12\n",
       "6   Jürgen Klinsmann     11\n",
       "7      Sándor Kocsis     11\n",
       "8         Harry Kane      8\n",
       "9  Cristiano Ronaldo      8"
      ]
     },
     "execution_count": 109,
     "metadata": {},
     "output_type": "execute_result"
    }
   ],
   "source": [
    "df_sorted =df.sort_values(by='goals', ascending = False)\n",
    "df_sorted"
   ]
  },
  {
   "cell_type": "code",
   "execution_count": 105,
   "id": "d07c4bcf-83bf-446d-b394-dc90406f4e42",
   "metadata": {},
   "outputs": [
    {
     "data": {
      "text/html": [
       "<div>\n",
       "<style scoped>\n",
       "    .dataframe tbody tr th:only-of-type {\n",
       "        vertical-align: middle;\n",
       "    }\n",
       "\n",
       "    .dataframe tbody tr th {\n",
       "        vertical-align: top;\n",
       "    }\n",
       "\n",
       "    .dataframe thead th {\n",
       "        text-align: right;\n",
       "    }\n",
       "</style>\n",
       "<table border=\"1\" class=\"dataframe\">\n",
       "  <thead>\n",
       "    <tr style=\"text-align: right;\">\n",
       "      <th></th>\n",
       "      <th>player</th>\n",
       "      <th>goals</th>\n",
       "    </tr>\n",
       "  </thead>\n",
       "  <tbody>\n",
       "    <tr>\n",
       "      <th>0</th>\n",
       "      <td>Miroslav Klose</td>\n",
       "      <td>16</td>\n",
       "    </tr>\n",
       "    <tr>\n",
       "      <th>1</th>\n",
       "      <td>Ronaldo Nazario</td>\n",
       "      <td>16</td>\n",
       "    </tr>\n",
       "    <tr>\n",
       "      <th>2</th>\n",
       "      <td>Gerd Muller</td>\n",
       "      <td>14</td>\n",
       "    </tr>\n",
       "    <tr>\n",
       "      <th>3</th>\n",
       "      <td>Just Fontaine</td>\n",
       "      <td>13</td>\n",
       "    </tr>\n",
       "    <tr>\n",
       "      <th>4</th>\n",
       "      <td>Kylian Mbappe</td>\n",
       "      <td>12</td>\n",
       "    </tr>\n",
       "    <tr>\n",
       "      <th>5</th>\n",
       "      <td>Pele</td>\n",
       "      <td>12</td>\n",
       "    </tr>\n",
       "    <tr>\n",
       "      <th>6</th>\n",
       "      <td>Jürgen Klinsmann</td>\n",
       "      <td>11</td>\n",
       "    </tr>\n",
       "    <tr>\n",
       "      <th>7</th>\n",
       "      <td>Sándor Kocsis</td>\n",
       "      <td>11</td>\n",
       "    </tr>\n",
       "    <tr>\n",
       "      <th>8</th>\n",
       "      <td>Harry Kane</td>\n",
       "      <td>8</td>\n",
       "    </tr>\n",
       "    <tr>\n",
       "      <th>9</th>\n",
       "      <td>Cristiano Ronaldo</td>\n",
       "      <td>8</td>\n",
       "    </tr>\n",
       "  </tbody>\n",
       "</table>\n",
       "</div>"
      ],
      "text/plain": [
       "              player  goals\n",
       "0     Miroslav Klose     16\n",
       "1    Ronaldo Nazario     16\n",
       "2        Gerd Muller     14\n",
       "3      Just Fontaine     13\n",
       "4      Kylian Mbappe     12\n",
       "5               Pele     12\n",
       "6   Jürgen Klinsmann     11\n",
       "7      Sándor Kocsis     11\n",
       "8         Harry Kane      8\n",
       "9  Cristiano Ronaldo      8"
      ]
     },
     "execution_count": 105,
     "metadata": {},
     "output_type": "execute_result"
    }
   ],
   "source": [
    "df"
   ]
  },
  {
   "cell_type": "code",
   "execution_count": 111,
   "id": "dd73d017-66e1-444d-985e-cf50a133c4e7",
   "metadata": {},
   "outputs": [],
   "source": [
    "import matplotlib.pyplot as plt\n",
    "\n",
    "import seaborn as sns\n",
    "\n",
    "sns.set(style =\"whitegrid\") #clean seaborn style\n"
   ]
  },
  {
   "cell_type": "code",
   "execution_count": 115,
   "id": "38c2c56f-04c4-4875-886f-affd0b772827",
   "metadata": {},
   "outputs": [
    {
     "data": {
      "image/png": "[encoded data removed]",
      "text/plain": [
       "<Figure size 1000x600 with 1 Axes>"
      ]
     },
     "metadata": {},
     "output_type": "display_data"
    }
   ],
   "source": [
    "plt.figure(figsize=(10, 6))\n",
    "\n",
    "sns.barplot(\n",
    "    data=df_sorted,\n",
    "    y='player',\n",
    "    x='goals',\n",
    "    hue='player',         # ✅ add this line\n",
    "    legend=False,         # ✅ hide the automatic legend\n",
    "    palette='viridis'     # ✅ still use a nice color scheme\n",
    ")\n",
    "\n",
    "plt.title(\"Top World Cup Goal Scorers\", fontsize=16)\n",
    "plt.xlabel(\"Goals\")\n",
    "plt.ylabel(\"Player\")\n",
    "plt.tight_layout()\n",
    "plt.show()\n"
   ]
  },
  {
   "cell_type": "code",
   "execution_count": 123,
   "id": "c8303375-f63e-410d-9cf3-e8b2c920818e",
   "metadata": {},
   "outputs": [
    {
     "data": {
      "image/png": "[encoded data removed]",
      "text/plain": [
       "<Figure size 1000x600 with 1 Axes>"
      ]
     },
     "metadata": {},
     "output_type": "display_data"
    }
   ],
   "source": [
    "plt.figure(figsize=(10,6))\n",
    "\n",
    "sns.barplot(\n",
    "data=df_sorted,\n",
    "    y='player',\n",
    "    x='goals',\n",
    "    hue='player', #add this linr\n",
    "    legend=False, # hide auto legend\n",
    "    palette = 'viridis' # nice colour\n",
    "\n",
    ")\n",
    "\n",
    "\n",
    "plt.title (\"All Time Top World Cup Goal Scorers\", fontsize=16)\n",
    "plt.xlabel(\"Goals\")\n",
    "plt.ylabel(\"Player\")\n",
    "plt.tight_layout()\n",
    "plt.show()"
   ]
  },
  {
   "cell_type": "markdown",
   "id": "ba974955-99fd-45db-99df-b719e0949fbd",
   "metadata": {},
   "source": [
    "# 🏆 World Cup Top Scorers – Data Science Project\n",
    "\n",
    "### ✅ What This Project Covers:\n",
    "\n",
    "- ✅ Core Python: functions, loops, if/else, lists, dictionaries, strings\n",
    "- ✅ File handling with JSON: saving and loading structured data\n",
    "- ✅ Object-Oriented Programming: custom `Winner` and `Player` classes\n",
    "- ✅ Pandas: data analysis, filtering, sorting, and stats\n",
    "- ✅ NumPy: mean calculations and totals\n",
    "- ✅ Seaborn + Matplotlib: clean bar charts for top scorers\n",
    "- ✅ Simulated API: how real data systems send and receive JSON\n",
    "- ✅ Clean code structure, modular thinking, and reusable functions\n",
    "\n",
    "### 📊 Key Insights:\n",
    "\n",
    "- Highest scorer: **Miroslav Klose** (16 goals)\n",
    "- Average top scorer goals: **~11.8**\n",
    "- Brazil won the most World Cups\n",
    "- Most top scorers scored between 11–16 goals\n",
    "\n",
    "### 💡 Next Steps:\n",
    "\n",
    "- Upload to GitHub with `README.md`\n",
    "- Add more visualizations (pie chart? timelines?)\n",
    "- Compare Men's and Women's World Cup scorers\n",
    "- Real API integration (like FIFA or football-data.org)\n"
   ]
  }
 ],
 "metadata": {
  "kernelspec": {
   "display_name": "Python [conda env:base] *",
   "language": "python",
   "name": "conda-base-py"
  },
  "language_info": {
   "codemirror_mode": {
    "name": "ipython",
    "version": 3
   },
   "file_extension": ".py",
   "mimetype": "text/x-python",
   "name": "python",
   "nbconvert_exporter": "python",
   "pygments_lexer": "ipython3",
   "version": "3.12.7"
  }
 },
 "nbformat": 4,
 "nbformat_minor": 5
}
